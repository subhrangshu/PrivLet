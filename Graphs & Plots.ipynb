{
 "cells": [
  {
   "cell_type": "markdown",
   "metadata": {
    "id": "x_Tny4_1HLz0"
   },
   "source": [
    "#Run these first"
   ]
  },
  {
   "cell_type": "code",
   "execution_count": null,
   "metadata": {
    "colab": {
     "base_uri": "https://localhost:8080/"
    },
    "executionInfo": {
     "elapsed": 4200,
     "status": "ok",
     "timestamp": 1672985460989,
     "user": {
      "displayName": "Sree Teja Nadella",
      "userId": "13583608742474239576"
     },
     "user_tz": -330
    },
    "id": "SAdQAKyuZmsQ",
    "outputId": "fdaea962-e6fd-425d-b412-e27bfb2af76a"
   },
   "outputs": [],
   "source": [
    "%pip install matplotlib==3.6.2"
   ]
  },
  {
   "cell_type": "code",
   "execution_count": null,
   "metadata": {
    "id": "wXH3y8Qfk3VF"
   },
   "outputs": [],
   "source": [
    "import pandas as pd\n",
    "import numpy as np\n",
    "import os\n",
    "import matplotlib.pyplot as plt\n",
    "from sklearn.preprocessing import MinMaxScaler\n",
    "# from sklearn.metrics import accuracy_score\n",
    "# from sklearn.model_selection import train_test_split\n",
    "# from scipy.misc import electrocardiogram\n",
    "import pywt\n",
    "import scipy.signal as signal\n",
    "import seaborn as sns\n",
    "\n",
    "from ipywidgets import interactive"
   ]
  },
  {
   "cell_type": "code",
   "execution_count": null,
   "metadata": {
    "id": "DMcGFOcgk5VO"
   },
   "outputs": [],
   "source": [
    "#import files here\n",
    "norm_data = pd.read_csv(\"normal.csv\")\n",
    "hem_data = pd.read_csv(\"hemiplegia.csv\")"
   ]
  },
  {
   "cell_type": "code",
   "execution_count": null,
   "metadata": {
    "id": "fwD3QHpIk6qc"
   },
   "outputs": [],
   "source": [
    "def get_values(data,key):\n",
    "    \n",
    "    wavelet_type='db6'\n",
    "\n",
    "    DWTcoeffs = pywt.wavedec(data[key],wavelet_type,mode='symmetric', level=9, axis=-1)\n",
    "\n",
    "    for i in range(1,10):\n",
    "        DWTcoeffs[-i] = np.zeros_like(DWTcoeffs[-i])\n",
    "\n",
    "    filtered_data_dwt=pywt.waverec(DWTcoeffs,wavelet_type,mode='symmetric',axis=-1) \n",
    "\n",
    "    fc = 0.9  # Cut-off frequency of the butterworth filter\n",
    "    w = fc / (100 / 2) # Normalize the frequency\n",
    "    b, a = signal.butter(5, w, 'low')\n",
    "    filtered_data_butterworth = signal.filtfilt(b, a, data[key])\n",
    "\n",
    "    return filtered_data_dwt, filtered_data_butterworth\n"
   ]
  },
  {
   "cell_type": "markdown",
   "metadata": {
    "id": "_3K85m_KG-oh"
   },
   "source": [
    "#Testing"
   ]
  },
  {
   "cell_type": "code",
   "execution_count": null,
   "metadata": {
    "colab": {
     "base_uri": "https://localhost:8080/",
     "referenced_widgets": [
      "6c278b64abe043b2bd3d96b942b9b6ed",
      "c29ec99f23154416a737bdc4b53cf834",
      "b2ea0ce9e4444558b4910fa27eff4a31",
      "73077410e21448f384aab6c52994e2e7",
      "a81e320ccda24f6b8566d63a8ed2a26a",
      "81edd179d62e48c1a522e92a1863d7dd",
      "d9a346f226014f54ba1b7f62bba7c189",
      "cfeab0d7e57d4134bae053ebc9347064",
      "be73911d53da4c5c847104c3caf82429",
      "6df2c09fc5ab4ae79c5f7b46e959f92f"
     ]
    },
    "executionInfo": {
     "elapsed": 2596,
     "status": "ok",
     "timestamp": 1672985466142,
     "user": {
      "displayName": "Sree Teja Nadella",
      "userId": "13583608742474239576"
     },
     "user_tz": -330
    },
    "id": "LhVBG481k8hW",
    "outputId": "f65581a0-f4d1-4f23-f28c-e14da30a2726"
   },
   "outputs": [],
   "source": [
    "start1 = 65000\n",
    "duration1 = 600\n",
    "\n",
    "def create_graph1(start=65000,duration=600):\n",
    "    start1 , duration1 = start , duration\n",
    "    data1 = norm_data[start:start+duration] \n",
    "    \n",
    "    filtered_data_dwt, filtered_data_butterworth = get_values(data1,'Ay')\n",
    "\n",
    "    f1 = plt.figure(1,figsize=(6.85,4))\n",
    "    plt.psd(data1['Ay'], NFFT=512, Fs=360, color='blue', label='original data')\n",
    "    plt.psd(filtered_data_dwt, NFFT=512, Fs=360, color='red', label='filtered data (DWT)')\n",
    "    plt.psd(filtered_data_butterworth, NFFT=512, Fs=360, color='black', label='filtered data (Butterworth)')\n",
    "    plt.legend()\n",
    "\n",
    "    f2 = plt.figure(2,figsize=(6.85,5))\n",
    "    plt.subplot(311)\n",
    "    plt.plot(data1['Ay'], color='blue', label='original data')\n",
    "    plt.title('original')\n",
    "    plt.legend() \n",
    "    plt.grid()\n",
    "    plt.subplot(312)\n",
    "    plt.plot(filtered_data_dwt, color='red', label='filtered data (DWT)')\n",
    "    plt.title('filtered (DWT)')\n",
    "    plt.grid()\n",
    "    plt.legend()\n",
    "    plt.subplot(313)\n",
    "    plt.plot(filtered_data_butterworth, color='black', label='filtered data (Butterworth)')\n",
    "    plt.title('filtered (Butterworth)')\n",
    "    plt.grid()\n",
    "    plt.legend()\n",
    "    # f2.supxlabel('time in milliseconds →')\n",
    "    # f2.supylabel('Ay (acceleration in y direction) →')\n",
    "    plt.tight_layout()\n",
    "w1 = interactive(create_graph1,start=(0,80000),duration=(500,1500))\n",
    "w1"
   ]
  },
  {
   "cell_type": "code",
   "execution_count": null,
   "metadata": {
    "id": "Cck7C_QRk-Zl"
   },
   "outputs": [],
   "source": [
    "start2 = 20000\n",
    "duration2 = 600\n",
    "\n",
    "def create_graph2(start=20000,duration=600):\n",
    "    start2 , duration2 = start , duration\n",
    "    data2 = hem_data[start:start+duration] \n",
    "    \n",
    "    filtered_data_dwt, filtered_data_butterworth = get_values(data2,'Ay')\n",
    "\n",
    "    f1 = plt.figure(1,figsize=(6.85,4))\n",
    "    plt.psd(data2['Ay'], NFFT=512, Fs=360, color='blue', label='original data')\n",
    "    plt.psd(filtered_data_dwt, NFFT=512, Fs=360, color='red', label='filtered data (DWT)')\n",
    "    plt.psd(filtered_data_butterworth, NFFT=512, Fs=360, color='black', label='filtered data (Butterworth)')\n",
    "    plt.legend()\n",
    "\n",
    "    f2 = plt.figure(2,figsize=(6.85,5))\n",
    "    plt.subplot(311)\n",
    "    plt.plot(data2['Ay'], color='blue', label='original data')\n",
    "    plt.title('original')\n",
    "    plt.grid()\n",
    "    plt.legend()\n",
    "    plt.subplot(312)\n",
    "    plt.plot(filtered_data_dwt, color='red', label='filtered data (DWT)')\n",
    "    plt.title('filtered (DWT)')\n",
    "    plt.grid()\n",
    "    plt.legend()\n",
    "    plt.subplot(313)\n",
    "    plt.plot(filtered_data_butterworth, color='black', label='filtered data (Butterworth)')\n",
    "    plt.title('filtered (Butterworth)')\n",
    "    plt.grid()\n",
    "    plt.legend()\n",
    "    # f2.supxlabel('time in milliseconds →')\n",
    "    # f2.supylabel('Ay (acceleration in y direction) →')\n",
    "    plt.tight_layout()\n",
    "w2 = interactive(create_graph2,start=(0,27000),duration=(500,1500))\n",
    "w2"
   ]
  },
  {
   "cell_type": "markdown",
   "metadata": {
    "id": "6DC1AT5tDCX2"
   },
   "source": [
    "#Graph1 (long)"
   ]
  },
  {
   "cell_type": "code",
   "execution_count": null,
   "metadata": {
    "colab": {
     "base_uri": "https://localhost:8080/",
     "height": 402
    },
    "executionInfo": {
     "elapsed": 6620,
     "status": "ok",
     "timestamp": 1672287084787,
     "user": {
      "displayName": "Sree Teja Nadella",
      "userId": "13583608742474239576"
     },
     "user_tz": -330
    },
    "id": "ZfINDF0ZDFJX",
    "outputId": "727eb45b-6aa1-4893-bfc4-1a7bc6af96c5"
   },
   "outputs": [],
   "source": [
    "# Normal & Hemiplegia \n",
    "norm_data_slice = norm_data[start1:start1+duration1]  \n",
    "hem_data_slice = hem_data[start2:start2+duration2]  \n",
    "val = ['Ax','Gx','Ay','Gy','Az','Gz']\n",
    "f1 = plt.figure(constrained_layout=True,figsize=(14, 4.5))\n",
    "ax1 = f1.subfigures(3,2)\n",
    "row , col = 3 , 2\n",
    "for i in range(row): \n",
    "    for j in range(col):\n",
    "        ax2 = ax1[i,j].subplots(1,2,sharex=True,sharey=True,squeeze=False)\n",
    "        l1=ax2[0,0].plot(norm_data_slice.set_index(pd.Index(range(duration1)))[val[i*col+j]], color='C2', label='Normal',linewidth=0.9)\n",
    "        ax2[0,0].set_title(val[i*col+j]+' N')\n",
    "        ax2[0,0].grid()\n",
    "        l2=ax2[0,1].plot(hem_data_slice.set_index(pd.Index(range(duration2)))[val[i*col+j]], color='C3', label='Hemiplegia',linewidth=0.9)\n",
    "        ax2[0,1].set_title(val[i*col+j]+' H')\n",
    "        ax2[0,1].grid()\n",
    "f1.suptitle(\"Normal (N) & Hemiplegia (H)\")\n",
    "f1.text(0.5, -0.02, 'time →', ha='center')\n",
    "f1.text(-0.03, 0.5, 'Magnitude →', va='center', rotation='vertical')\n",
    "# Printing legend\n",
    "f1.legend(['Normal','Hemiplegia'],loc='center',ncol=2,bbox_to_anchor=(0.5, -0.075),edgecolor='0.4')\n",
    "# f1.tight_layout()"
   ]
  },
  {
   "cell_type": "markdown",
   "metadata": {
    "id": "T_KrqwimGTWW"
   },
   "source": [
    "#Graph 1 (short)"
   ]
  },
  {
   "cell_type": "code",
   "execution_count": null,
   "metadata": {
    "colab": {
     "base_uri": "https://localhost:8080/",
     "height": 402
    },
    "executionInfo": {
     "elapsed": 3778,
     "status": "ok",
     "timestamp": 1670441987533,
     "user": {
      "displayName": "Sree Teja Nadella",
      "userId": "13583608742474239576"
     },
     "user_tz": -330
    },
    "id": "F3XQjvQgGXzI",
    "outputId": "2abad8a1-861a-4e2e-b24b-31641133eeef"
   },
   "outputs": [],
   "source": [
    "# Normal & Hemiplegia \n",
    "norm_data_slice = norm_data[start1:start1+duration1]  \n",
    "hem_data_slice = hem_data[start2:start2+duration2]  \n",
    "val = ['Ax','Gx','Ay','Gy','Az','Gz']\n",
    "f1 = plt.figure(constrained_layout=True,figsize=(6, 4.5))\n",
    "ax1 = f1.subfigures(3,2)\n",
    "row , col = 3 , 2\n",
    "for i in range(row): \n",
    "    for j in range(col):\n",
    "        ax2 = ax1[i,j].subplots(1,2,sharex=True,sharey=True,squeeze=False)\n",
    "        l1=ax2[0,0].plot(norm_data_slice.set_index(pd.Index(range(duration1)))[val[i*col+j]], color='C2', label='Normal',linewidth=0.9)\n",
    "        ax2[0,0].set_title(val[i*col+j]+' N')\n",
    "        ax2[0,0].grid()\n",
    "        l2=ax2[0,1].plot(hem_data_slice.set_index(pd.Index(range(duration2)))[val[i*col+j]], color='C3', label='Hemiplegia',linewidth=0.9)\n",
    "        ax2[0,1].set_title(val[i*col+j]+' H')\n",
    "        ax2[0,1].grid()\n",
    "f1.suptitle(\"Normal (N) & Hemiplegia (H)\")\n",
    "f1.text(0.5, -0.02, 'time →', ha='center')\n",
    "f1.text(-0.03, 0.5, 'Magnitude →', va='center', rotation='vertical')\n",
    "# Printing legend\n",
    "f1.legend(['Normal','Hemiplegia'],loc='center',ncol=2,bbox_to_anchor=(0.5, -0.075),edgecolor='0.4')\n",
    "# f1.tight_layout()"
   ]
  },
  {
   "cell_type": "markdown",
   "metadata": {
    "id": "YEAUUbfElBBy"
   },
   "source": [
    "#Graph 2"
   ]
  },
  {
   "cell_type": "code",
   "execution_count": null,
   "metadata": {
    "colab": {
     "base_uri": "https://localhost:8080/",
     "height": 475
    },
    "executionInfo": {
     "elapsed": 3294,
     "status": "ok",
     "timestamp": 1672991824223,
     "user": {
      "displayName": "Sree Teja Nadella",
      "userId": "13583608742474239576"
     },
     "user_tz": -330
    },
    "id": "c5LVc3_blCY-",
    "outputId": "95beaae9-197d-474a-885d-1961d005e65f"
   },
   "outputs": [],
   "source": [
    "norm_data_slice = norm_data[start1:start1+duration1] \n",
    "hem_data_slice = hem_data[start2:start2+duration2] \n",
    "val = ['Ax','Ay','Az','Gx','Gy','Gz']\n",
    "f1, ax1 = plt.subplots(2,3,figsize=(8, 5),sharex=True,sharey=True)\n",
    "\n",
    "row , col = 2 , 3\n",
    "for i in range(row): \n",
    "    for j in range(col):\n",
    "        filtered_data_dwt_norm, filtered_data_butterworth_norm = get_values(norm_data_slice,val[i*col+j])\n",
    "        filtered_data_dwt_hem, filtered_data_butterworth_hem = get_values(hem_data_slice,val[i*col+j])\n",
    "        # normal\n",
    "        ax1[i,j].psd(norm_data_slice[val[i*col+j]], NFFT=512, Fs=100, color='C0', label='Raw Normal',linewidth=0.95)\n",
    "        ax1[i,j].psd(filtered_data_dwt_norm, NFFT=512, Fs=100, color='C2', label='Inverse wavelet transformed Normal',ls='dashed')\n",
    "        ax1[i,j].psd(filtered_data_butterworth_norm, NFFT=512, Fs=100, color='C9', label='Butterworth normal',ls='-.',linewidth=1.5)\n",
    "        # hemiplegia\n",
    "        ax1[i,j].psd(hem_data_slice[val[i*col+j]], NFFT=512, Fs=100, color='C1', label='Raw Hemiplegia',linewidth=0.95)\n",
    "        ax1[i,j].psd(filtered_data_dwt_hem, NFFT=512, Fs=100, color='C3', label='Inverse wavelet transformed Hemiplegia',ls='dashed')\n",
    "        ax1[i,j].psd(filtered_data_butterworth_hem, NFFT=512, Fs=100, color='C6', label='Butterworth Hemiplegia',ls='-.',linewidth=1.5)\n",
    "        ax1[i,j].set_title(val[i*col+j])\n",
    "        ax1[i,j].set(xlabel=None,ylabel=None)\n",
    "        ax1[i,j].tick_params(axis=\"y\", labelsize=8)\n",
    "f1.text(0.5, 0, 'Frequency (Hz) →', ha='center')\n",
    "f1.text(0, 0.5, 'Power Spectral Density (dB/Hz) →', va='center', rotation='vertical')\n",
    "# Printing legend\n",
    "handles, labels = f1.gca().get_legend_handles_labels()\n",
    "by_label = dict(zip(labels, handles))\n",
    "f1.legend(by_label.values(), by_label.keys(),loc='center',ncol=2,bbox_to_anchor=(0.5, -0.1),edgecolor='0.4')\n",
    "f1.tight_layout()\n",
    "plt.savefig('Graph2.jpg', dpi=300, bbox_inches='tight')"
   ]
  },
  {
   "cell_type": "markdown",
   "metadata": {
    "id": "wLhWWd2klGPg"
   },
   "source": [
    "#Graph 3 (Version 1)"
   ]
  },
  {
   "cell_type": "code",
   "execution_count": null,
   "metadata": {
    "colab": {
     "base_uri": "https://localhost:8080/",
     "height": 429
    },
    "executionInfo": {
     "elapsed": 2083,
     "status": "ok",
     "timestamp": 1670439162815,
     "user": {
      "displayName": "Sree Teja Nadella",
      "userId": "13583608742474239576"
     },
     "user_tz": -330
    },
    "id": "_MZ7MwM1lJcV",
    "outputId": "74016fea-aee4-49de-cb0a-1806e1bbffb0"
   },
   "outputs": [],
   "source": [
    "# Normal \n",
    "norm_data_slice = norm_data[start1:start1+duration1]  \n",
    "val = ['Ax','Gx','Ay','Gy','Az','Gz']\n",
    "f1, ax1 = plt.subplots(3,2,figsize=(6, 5),sharex=False,sharey=False)\n",
    "row , col = 3 , 2\n",
    "for i in range(row): \n",
    "    for j in range(col):\n",
    "        filtered_data_dwt_norm, filtered_data_butterworth_norm = get_values(norm_data_slice,val[i*col+j])\n",
    "        ax1[i,j].plot(norm_data_slice.set_index(pd.Index(range(duration1)))[val[i*col+j]], color='C0', label='Raw',linewidth=0.9)\n",
    "        ax1[i,j].plot(filtered_data_dwt_norm, color='C2', label='Wavelet',ls='dashed')\n",
    "        ax1[i,j].plot(filtered_data_butterworth_norm, color='C3', label='Butterworth',ls='-.')\n",
    "        ax1[i,j].set_title(val[i*col+j])\n",
    "        ax1[i,j].grid()\n",
    "f1.suptitle(\"Normal\")\n",
    "f1.text(0.5, -0.02, 'time →', ha='center')\n",
    "f1.text(0, 0.5, 'Magnitude →', va='center', rotation='vertical')\n",
    "# Printing legend\n",
    "handles, labels = f1.gca().get_legend_handles_labels()\n",
    "by_label = dict(zip(labels, handles))\n",
    "f1.legend(by_label.values(), by_label.keys(),loc='center',ncol=3,bbox_to_anchor=(0.5, -0.1),edgecolor='0.4')\n",
    "f1.tight_layout()"
   ]
  },
  {
   "cell_type": "code",
   "execution_count": null,
   "metadata": {
    "colab": {
     "base_uri": "https://localhost:8080/",
     "height": 429
    },
    "executionInfo": {
     "elapsed": 1604,
     "status": "ok",
     "timestamp": 1670439311406,
     "user": {
      "displayName": "Sree Teja Nadella",
      "userId": "13583608742474239576"
     },
     "user_tz": -330
    },
    "id": "efNt_P8ZlMmf",
    "outputId": "88aa43f0-a65b-4955-9c66-c982f6748f58"
   },
   "outputs": [],
   "source": [
    "# Hemiplegia \n",
    "hem_data_slice = hem_data[start2:start2+duration2]  \n",
    "val = ['Ax','Gx','Ay','Gy','Az','Gz']\n",
    "f1, ax1 = plt.subplots(3,2,figsize=(6, 5),sharex=False,sharey=False)\n",
    "row , col = 3 , 2\n",
    "for i in range(row): \n",
    "    for j in range(col):\n",
    "        filtered_data_dwt_hem, filtered_data_butterworth_hem = get_values(hem_data_slice,val[i*col+j])\n",
    "        ax1[i,j].plot(hem_data_slice.set_index(pd.Index(range(duration2)))[val[i*col+j]], color='C0', label='Raw',linewidth=0.9)\n",
    "        ax1[i,j].plot(filtered_data_dwt_hem, color='C2', label='Wavelet',ls='dashed')\n",
    "        ax1[i,j].plot(filtered_data_butterworth_hem, color='C3', label='Butterworth',ls='-.')\n",
    "        ax1[i,j].set_title(val[i*col+j])\n",
    "        ax1[i,j].grid()\n",
    "f1.suptitle(\"Hemiplegia\")\n",
    "f1.text(0.5, -0.02, 'time →', ha='center')\n",
    "f1.text(0, 0.5, 'Magnitude →', va='center', rotation='vertical')\n",
    "# Printing legend\n",
    "handles, labels = f1.gca().get_legend_handles_labels()\n",
    "by_label = dict(zip(labels, handles))\n",
    "f1.legend(by_label.values(), by_label.keys(),loc='center',ncol=3,bbox_to_anchor=(0.5, -0.1),edgecolor='0.4')\n",
    "f1.tight_layout()"
   ]
  },
  {
   "cell_type": "markdown",
   "metadata": {
    "id": "OwLbxlYkzJ2X"
   },
   "source": [
    "#Graph 3 (Version 2)"
   ]
  },
  {
   "cell_type": "code",
   "execution_count": null,
   "metadata": {
    "colab": {
     "base_uri": "https://localhost:8080/",
     "height": 659
    },
    "executionInfo": {
     "elapsed": 3869,
     "status": "ok",
     "timestamp": 1670440575568,
     "user": {
      "displayName": "Sree Teja Nadella",
      "userId": "13583608742474239576"
     },
     "user_tz": -330
    },
    "id": "REvUKDGvzOg4",
    "outputId": "a4dcf1ad-930f-4e9d-bac9-3500aaa5af4a"
   },
   "outputs": [],
   "source": [
    "# Normal & Hemiplegia \n",
    "norm_data_slice = norm_data[start1:start1+duration1]  \n",
    "hem_data_slice = hem_data[start2:start2+duration2]  \n",
    "val = ['Ax','Gx','Ay','Gy','Az','Gz']\n",
    "f1 = plt.figure(constrained_layout=True,figsize=(6, 8))\n",
    "ax1 = f1.subfigures(3,2)\n",
    "row , col = 3 , 2\n",
    "for i in range(row): \n",
    "    for j in range(col):\n",
    "        ax2 = ax1[i,j].subplots(2,1,sharex=True,sharey=False,squeeze=False)\n",
    "        filtered_data_dwt_norm, filtered_data_butterworth_norm = get_values(norm_data_slice,val[i*col+j])\n",
    "        ax2[0,0].plot(norm_data_slice.set_index(pd.Index(range(duration1)))[val[i*col+j]], color='C0', label='Raw',linewidth=0.9)\n",
    "        ax2[0,0].plot(filtered_data_dwt_norm, color='C2', label='Wavelet',ls='dashed')\n",
    "        ax2[0,0].plot(filtered_data_butterworth_norm, color='C3', label='Butterworth',ls='-.')\n",
    "        ax2[0,0].set_title(val[i*col+j]+' (Up: N Down: H)')\n",
    "        ax2[0,0].grid()\n",
    "        filtered_data_dwt_hem, filtered_data_butterworth_hem = get_values(hem_data_slice,val[i*col+j])\n",
    "        ax2[1,0].plot(hem_data_slice.set_index(pd.Index(range(duration2)))[val[i*col+j]], color='C0', label='Raw',linewidth=0.9)\n",
    "        ax2[1,0].plot(filtered_data_dwt_hem, color='C2', label='Wavelet',ls='dashed')\n",
    "        ax2[1,0].plot(filtered_data_butterworth_hem, color='C3', label='Butterworth',ls='-.')\n",
    "        ax2[1,0].grid()\n",
    "f1.suptitle(\"Normal (N) & Hemiplegia (H)\")\n",
    "f1.text(0.5, -0.02, 'time →', ha='center')\n",
    "f1.text(-0.03, 0.5, 'Magnitude →', va='center', rotation='vertical')\n",
    "# Printing legend\n",
    "handles, labels = f1.gca().get_legend_handles_labels()\n",
    "by_label = dict(zip(labels, handles))\n",
    "f1.legend(by_label.values(), by_label.keys(),loc='center',ncol=3,bbox_to_anchor=(0.5, -0.05),edgecolor='0.4')\n",
    "# f1.tight_layout()"
   ]
  },
  {
   "cell_type": "markdown",
   "metadata": {
    "id": "kP-k3H3ZBOa3"
   },
   "source": [
    "#Graph 3 (Version 3)"
   ]
  },
  {
   "cell_type": "code",
   "execution_count": null,
   "metadata": {
    "colab": {
     "base_uri": "https://localhost:8080/",
     "height": 402
    },
    "executionInfo": {
     "elapsed": 4750,
     "status": "ok",
     "timestamp": 1670440849334,
     "user": {
      "displayName": "Sree Teja Nadella",
      "userId": "13583608742474239576"
     },
     "user_tz": -330
    },
    "id": "N7Y3CH9MBSUB",
    "outputId": "6764f741-169d-4d4c-861d-245f9256c98c"
   },
   "outputs": [],
   "source": [
    "# Normal & Hemiplegia \n",
    "norm_data_slice = norm_data[start1:start1+duration1]  \n",
    "hem_data_slice = hem_data[start2:start2+duration2]  \n",
    "val = ['Ax','Gx','Ay','Gy','Az','Gz']\n",
    "f1 = plt.figure(constrained_layout=True,figsize=(8, 4.5))\n",
    "ax1 = f1.subfigures(3,2)\n",
    "row , col = 3 , 2\n",
    "for i in range(row): \n",
    "    for j in range(col):\n",
    "        ax2 = ax1[i,j].subplots(1,2,sharex=True,sharey=True,squeeze=False)\n",
    "        filtered_data_dwt_norm, filtered_data_butterworth_norm = get_values(norm_data_slice,val[i*col+j])\n",
    "        ax2[0,0].plot(norm_data_slice.set_index(pd.Index(range(duration1)))[val[i*col+j]], color='C0', label='Raw',linewidth=0.9)\n",
    "        ax2[0,0].plot(filtered_data_dwt_norm, color='C2', label='Wavelet',ls='dashed')\n",
    "        ax2[0,0].plot(filtered_data_butterworth_norm, color='C3', label='Butterworth',ls='-.')\n",
    "        ax2[0,0].set_title(val[i*col+j]+' N')\n",
    "        ax2[0,0].grid()\n",
    "        filtered_data_dwt_hem, filtered_data_butterworth_hem = get_values(hem_data_slice,val[i*col+j])\n",
    "        ax2[0,1].plot(hem_data_slice.set_index(pd.Index(range(duration2)))[val[i*col+j]], color='C0', label='Raw',linewidth=0.9)\n",
    "        ax2[0,1].plot(filtered_data_dwt_hem, color='C2', label='Wavelet',ls='dashed')\n",
    "        ax2[0,1].plot(filtered_data_butterworth_hem, color='C3', label='Butterworth',ls='-.')\n",
    "        ax2[0,1].set_title(val[i*col+j]+' H')\n",
    "        ax2[0,1].grid()\n",
    "f1.suptitle(\"Normal (N) & Hemiplegia (H)\")\n",
    "f1.text(0.5, -0.02, 'time →', ha='center')\n",
    "f1.text(-0.03, 0.5, 'Magnitude →', va='center', rotation='vertical')\n",
    "# Printing legend\n",
    "handles, labels = f1.gca().get_legend_handles_labels()\n",
    "by_label = dict(zip(labels, handles))\n",
    "f1.legend(by_label.values(), by_label.keys(),loc='center',ncol=3,bbox_to_anchor=(0.5, -0.075),edgecolor='0.4')\n",
    "# f1.tight_layout()"
   ]
  },
  {
   "cell_type": "markdown",
   "metadata": {
    "id": "bPwUB_EVCS29"
   },
   "source": [
    "#Graph3 (Version 4)"
   ]
  },
  {
   "cell_type": "code",
   "execution_count": null,
   "metadata": {
    "colab": {
     "base_uri": "https://localhost:8080/",
     "height": 402
    },
    "executionInfo": {
     "elapsed": 11636,
     "status": "ok",
     "timestamp": 1672985488803,
     "user": {
      "displayName": "Sree Teja Nadella",
      "userId": "13583608742474239576"
     },
     "user_tz": -330
    },
    "id": "6reJQ3u0CWF-",
    "outputId": "5acdc81a-b5a0-451f-afdc-9b9c9e7b90f5"
   },
   "outputs": [],
   "source": [
    "# Normal & Hemiplegia \n",
    "norm_data_slice = norm_data[start1:start1+duration1]  \n",
    "hem_data_slice = hem_data[start2:start2+duration2]  \n",
    "val = ['Ax','Ay','Az','Gx','Gy','Gz']\n",
    "f1 = plt.figure(constrained_layout=True,figsize=(14, 4.5))\n",
    "ax1 = f1.subfigures(2,3)\n",
    "row , col = 2 , 3\n",
    "for i in range(row): \n",
    "    for j in range(col):\n",
    "        ax2 = ax1[i,j].subplots(1,2,sharex=True,sharey=True,squeeze=False)\n",
    "        filtered_data_dwt_norm, filtered_data_butterworth_norm = get_values(norm_data_slice,val[i*col+j])\n",
    "        ax2[0,0].plot(norm_data_slice.set_index(pd.Index(range(duration1)))[val[i*col+j]], color='C0', label='Raw',linewidth=0.9)\n",
    "        ax2[0,0].plot(filtered_data_dwt_norm, color='C2', label='Wavelet',ls='dashed')\n",
    "        ax2[0,0].plot(filtered_data_butterworth_norm, color='C3', label='Butterworth',ls='-.')\n",
    "        ax2[0,0].set_title(val[i*col+j]+' N')\n",
    "        ax2[0,0].grid()\n",
    "        filtered_data_dwt_hem, filtered_data_butterworth_hem = get_values(hem_data_slice,val[i*col+j])\n",
    "        ax2[0,1].plot(hem_data_slice.set_index(pd.Index(range(duration2)))[val[i*col+j]], color='C0', label='Raw',linewidth=0.9)\n",
    "        ax2[0,1].plot(filtered_data_dwt_hem, color='C2', label='Wavelet',ls='dashed')\n",
    "        ax2[0,1].plot(filtered_data_butterworth_hem, color='C3', label='Butterworth',ls='-.')\n",
    "        ax2[0,1].set_title(val[i*col+j]+' H')\n",
    "        ax2[0,1].grid()\n",
    "f1.suptitle(\"Normal (N) & Hemiplegia (H)\")\n",
    "f1.text(0.5, -0.02, 'time →', ha='center')\n",
    "f1.text(-0.03, 0.5, 'Magnitude →', va='center', rotation='vertical')\n",
    "# Printing legend\n",
    "handles, labels = f1.gca().get_legend_handles_labels()\n",
    "by_label = dict(zip(labels, handles))\n",
    "f1.legend(by_label.values(), by_label.keys(),loc='center',ncol=3,bbox_to_anchor=(0.5, -0.075),edgecolor='0.4')\n",
    "# f1.tight_layout()"
   ]
  },
  {
   "cell_type": "markdown",
   "metadata": {
    "id": "HBUrVIouUJPO"
   },
   "source": [
    "# Graph 4"
   ]
  },
  {
   "cell_type": "code",
   "execution_count": null,
   "metadata": {
    "colab": {
     "base_uri": "https://localhost:8080/",
     "height": 370
    },
    "executionInfo": {
     "elapsed": 7283,
     "status": "ok",
     "timestamp": 1672991728313,
     "user": {
      "displayName": "Sree Teja Nadella",
      "userId": "13583608742474239576"
     },
     "user_tz": -330
    },
    "id": "7Mi2nIuFUMKw",
    "outputId": "2c8f9169-b6c1-4faf-b06a-07aa97bb53f5"
   },
   "outputs": [],
   "source": [
    "norm_data_slice = norm_data[start1:start1+duration1].copy()\n",
    "hem_data_slice = hem_data[start2:start2+duration2].copy()\n",
    "\n",
    "scaler = MinMaxScaler()\n",
    "fit = scaler.fit(norm_data_slice[['Ax','Ay','Az','Gx','Gy','Gz']])\n",
    "norm_data_slice[['Ax','Ay','Az','Gx','Gy','Gz']] = fit.transform(norm_data_slice[['Ax','Ay','Az','Gx','Gy','Gz']])\n",
    "hem_data_slice[['Ax','Ay','Az','Gx','Gy','Gz']] = fit.transform(hem_data_slice[['Ax','Ay','Az','Gx','Gy','Gz']])\n",
    "\n",
    "# norm_data_slice\n",
    "f1,ax1 = plt.subplots(1,1,figsize=(5,3.5),sharey=True)\n",
    "norm_data_slice_g = norm_data_slice.melt(value_vars=['Ax','Ay','Az','Gx','Gy','Gz'])\n",
    "hem_data_slice_g = hem_data_slice.melt(value_vars=['Ax','Ay','Az','Gx','Gy','Gz'])\n",
    "sns.swarmplot(data=hem_data_slice_g,x=\"variable\",y=\"value\",size=1.25, ax=ax1,zorder=0)\n",
    "sns.boxplot(data=norm_data_slice_g,x=\"variable\",y=\"value\",boxprops={'facecolor':'None'},showfliers=False,showmeans=True,meanprops={\"marker\":\"o\",\"mfc\":\"orange\",\"mec\":'y'}, ax=ax1).set(title='',xlabel=None,ylabel=None)\n",
    "f1.text(0.5, 0, 'Features →', ha='center',size=12,fontweight='bold')\n",
    "f1.text(0, 0.5, 'Scaled Magnitude →', va='center', rotation='vertical',size=12,fontweight='bold')\n",
    "f1.suptitle(\"Hemiplegia (Swarmplot) vs Normal (Boxplot)\")\n",
    "ax1.xaxis.grid(True) # Show the vertical gridlines\n",
    "ax1.yaxis.grid(True) \n",
    "f1.tight_layout()\n",
    "plt.savefig('Graph4.jpg', dpi=300)"
   ]
  },
  {
   "cell_type": "code",
   "execution_count": null,
   "metadata": {
    "id": "esNE0KSeJ4mX"
   },
   "outputs": [],
   "source": []
  }
 ],
 "metadata": {
  "colab": {
   "provenance": []
  },
  "kernelspec": {
   "display_name": "Python 3 (ipykernel)",
   "language": "python",
   "name": "python3"
  },
  "language_info": {
   "codemirror_mode": {
    "name": "ipython",
    "version": 3
   },
   "file_extension": ".py",
   "mimetype": "text/x-python",
   "name": "python",
   "nbconvert_exporter": "python",
   "pygments_lexer": "ipython3",
   "version": "3.8.8"
  },
  "widgets": {
   "application/vnd.jupyter.widget-state+json": {
    "6c278b64abe043b2bd3d96b942b9b6ed": {
     "model_module": "@jupyter-widgets/controls",
     "model_module_version": "1.5.0",
     "model_name": "VBoxModel",
     "state": {
      "_dom_classes": [
       "widget-interact"
      ],
      "_model_module": "@jupyter-widgets/controls",
      "_model_module_version": "1.5.0",
      "_model_name": "VBoxModel",
      "_view_count": null,
      "_view_module": "@jupyter-widgets/controls",
      "_view_module_version": "1.5.0",
      "_view_name": "VBoxView",
      "box_style": "",
      "children": [
       "IPY_MODEL_c29ec99f23154416a737bdc4b53cf834",
       "IPY_MODEL_b2ea0ce9e4444558b4910fa27eff4a31",
       "IPY_MODEL_73077410e21448f384aab6c52994e2e7"
      ],
      "layout": "IPY_MODEL_a81e320ccda24f6b8566d63a8ed2a26a"
     }
    },
    "6df2c09fc5ab4ae79c5f7b46e959f92f": {
     "model_module": "@jupyter-widgets/base",
     "model_module_version": "1.2.0",
     "model_name": "LayoutModel",
     "state": {
      "_model_module": "@jupyter-widgets/base",
      "_model_module_version": "1.2.0",
      "_model_name": "LayoutModel",
      "_view_count": null,
      "_view_module": "@jupyter-widgets/base",
      "_view_module_version": "1.2.0",
      "_view_name": "LayoutView",
      "align_content": null,
      "align_items": null,
      "align_self": null,
      "border": null,
      "bottom": null,
      "display": null,
      "flex": null,
      "flex_flow": null,
      "grid_area": null,
      "grid_auto_columns": null,
      "grid_auto_flow": null,
      "grid_auto_rows": null,
      "grid_column": null,
      "grid_gap": null,
      "grid_row": null,
      "grid_template_areas": null,
      "grid_template_columns": null,
      "grid_template_rows": null,
      "height": null,
      "justify_content": null,
      "justify_items": null,
      "left": null,
      "margin": null,
      "max_height": null,
      "max_width": null,
      "min_height": null,
      "min_width": null,
      "object_fit": null,
      "object_position": null,
      "order": null,
      "overflow": null,
      "overflow_x": null,
      "overflow_y": null,
      "padding": null,
      "right": null,
      "top": null,
      "visibility": null,
      "width": null
     }
    },
    "73077410e21448f384aab6c52994e2e7": {
     "model_module": "@jupyter-widgets/output",
     "model_module_version": "1.0.0",
     "model_name": "OutputModel",
     "state": {
      "_dom_classes": [],
      "_model_module": "@jupyter-widgets/output",
      "_model_module_version": "1.0.0",
      "_model_name": "OutputModel",
      "_view_count": null,
      "_view_module": "@jupyter-widgets/output",
      "_view_module_version": "1.0.0",
      "_view_name": "OutputView",
      "layout": "IPY_MODEL_6df2c09fc5ab4ae79c5f7b46e959f92f",
      "msg_id": "",
      "outputs": [
       {
        "data": {
         "image/png": "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\n",
         "text/plain": "<Figure size 493.2x288 with 1 Axes>"
        },
        "metadata": {
         "needs_background": "light"
        },
        "output_type": "display_data"
       }
      ]
     }
    },
    "81edd179d62e48c1a522e92a1863d7dd": {
     "model_module": "@jupyter-widgets/base",
     "model_module_version": "1.2.0",
     "model_name": "LayoutModel",
     "state": {
      "_model_module": "@jupyter-widgets/base",
      "_model_module_version": "1.2.0",
      "_model_name": "LayoutModel",
      "_view_count": null,
      "_view_module": "@jupyter-widgets/base",
      "_view_module_version": "1.2.0",
      "_view_name": "LayoutView",
      "align_content": null,
      "align_items": null,
      "align_self": null,
      "border": null,
      "bottom": null,
      "display": null,
      "flex": null,
      "flex_flow": null,
      "grid_area": null,
      "grid_auto_columns": null,
      "grid_auto_flow": null,
      "grid_auto_rows": null,
      "grid_column": null,
      "grid_gap": null,
      "grid_row": null,
      "grid_template_areas": null,
      "grid_template_columns": null,
      "grid_template_rows": null,
      "height": null,
      "justify_content": null,
      "justify_items": null,
      "left": null,
      "margin": null,
      "max_height": null,
      "max_width": null,
      "min_height": null,
      "min_width": null,
      "object_fit": null,
      "object_position": null,
      "order": null,
      "overflow": null,
      "overflow_x": null,
      "overflow_y": null,
      "padding": null,
      "right": null,
      "top": null,
      "visibility": null,
      "width": null
     }
    },
    "a81e320ccda24f6b8566d63a8ed2a26a": {
     "model_module": "@jupyter-widgets/base",
     "model_module_version": "1.2.0",
     "model_name": "LayoutModel",
     "state": {
      "_model_module": "@jupyter-widgets/base",
      "_model_module_version": "1.2.0",
      "_model_name": "LayoutModel",
      "_view_count": null,
      "_view_module": "@jupyter-widgets/base",
      "_view_module_version": "1.2.0",
      "_view_name": "LayoutView",
      "align_content": null,
      "align_items": null,
      "align_self": null,
      "border": null,
      "bottom": null,
      "display": null,
      "flex": null,
      "flex_flow": null,
      "grid_area": null,
      "grid_auto_columns": null,
      "grid_auto_flow": null,
      "grid_auto_rows": null,
      "grid_column": null,
      "grid_gap": null,
      "grid_row": null,
      "grid_template_areas": null,
      "grid_template_columns": null,
      "grid_template_rows": null,
      "height": null,
      "justify_content": null,
      "justify_items": null,
      "left": null,
      "margin": null,
      "max_height": null,
      "max_width": null,
      "min_height": null,
      "min_width": null,
      "object_fit": null,
      "object_position": null,
      "order": null,
      "overflow": null,
      "overflow_x": null,
      "overflow_y": null,
      "padding": null,
      "right": null,
      "top": null,
      "visibility": null,
      "width": null
     }
    },
    "b2ea0ce9e4444558b4910fa27eff4a31": {
     "model_module": "@jupyter-widgets/controls",
     "model_module_version": "1.5.0",
     "model_name": "IntSliderModel",
     "state": {
      "_dom_classes": [],
      "_model_module": "@jupyter-widgets/controls",
      "_model_module_version": "1.5.0",
      "_model_name": "IntSliderModel",
      "_view_count": null,
      "_view_module": "@jupyter-widgets/controls",
      "_view_module_version": "1.5.0",
      "_view_name": "IntSliderView",
      "continuous_update": true,
      "description": "duration",
      "description_tooltip": null,
      "disabled": false,
      "layout": "IPY_MODEL_cfeab0d7e57d4134bae053ebc9347064",
      "max": 1500,
      "min": 500,
      "orientation": "horizontal",
      "readout": true,
      "readout_format": "d",
      "step": 1,
      "style": "IPY_MODEL_be73911d53da4c5c847104c3caf82429",
      "value": 600
     }
    },
    "be73911d53da4c5c847104c3caf82429": {
     "model_module": "@jupyter-widgets/controls",
     "model_module_version": "1.5.0",
     "model_name": "SliderStyleModel",
     "state": {
      "_model_module": "@jupyter-widgets/controls",
      "_model_module_version": "1.5.0",
      "_model_name": "SliderStyleModel",
      "_view_count": null,
      "_view_module": "@jupyter-widgets/base",
      "_view_module_version": "1.2.0",
      "_view_name": "StyleView",
      "description_width": "",
      "handle_color": null
     }
    },
    "c29ec99f23154416a737bdc4b53cf834": {
     "model_module": "@jupyter-widgets/controls",
     "model_module_version": "1.5.0",
     "model_name": "IntSliderModel",
     "state": {
      "_dom_classes": [],
      "_model_module": "@jupyter-widgets/controls",
      "_model_module_version": "1.5.0",
      "_model_name": "IntSliderModel",
      "_view_count": null,
      "_view_module": "@jupyter-widgets/controls",
      "_view_module_version": "1.5.0",
      "_view_name": "IntSliderView",
      "continuous_update": true,
      "description": "start",
      "description_tooltip": null,
      "disabled": false,
      "layout": "IPY_MODEL_81edd179d62e48c1a522e92a1863d7dd",
      "max": 80000,
      "min": 0,
      "orientation": "horizontal",
      "readout": true,
      "readout_format": "d",
      "step": 1,
      "style": "IPY_MODEL_d9a346f226014f54ba1b7f62bba7c189",
      "value": 65000
     }
    },
    "cfeab0d7e57d4134bae053ebc9347064": {
     "model_module": "@jupyter-widgets/base",
     "model_module_version": "1.2.0",
     "model_name": "LayoutModel",
     "state": {
      "_model_module": "@jupyter-widgets/base",
      "_model_module_version": "1.2.0",
      "_model_name": "LayoutModel",
      "_view_count": null,
      "_view_module": "@jupyter-widgets/base",
      "_view_module_version": "1.2.0",
      "_view_name": "LayoutView",
      "align_content": null,
      "align_items": null,
      "align_self": null,
      "border": null,
      "bottom": null,
      "display": null,
      "flex": null,
      "flex_flow": null,
      "grid_area": null,
      "grid_auto_columns": null,
      "grid_auto_flow": null,
      "grid_auto_rows": null,
      "grid_column": null,
      "grid_gap": null,
      "grid_row": null,
      "grid_template_areas": null,
      "grid_template_columns": null,
      "grid_template_rows": null,
      "height": null,
      "justify_content": null,
      "justify_items": null,
      "left": null,
      "margin": null,
      "max_height": null,
      "max_width": null,
      "min_height": null,
      "min_width": null,
      "object_fit": null,
      "object_position": null,
      "order": null,
      "overflow": null,
      "overflow_x": null,
      "overflow_y": null,
      "padding": null,
      "right": null,
      "top": null,
      "visibility": null,
      "width": null
     }
    },
    "d9a346f226014f54ba1b7f62bba7c189": {
     "model_module": "@jupyter-widgets/controls",
     "model_module_version": "1.5.0",
     "model_name": "SliderStyleModel",
     "state": {
      "_model_module": "@jupyter-widgets/controls",
      "_model_module_version": "1.5.0",
      "_model_name": "SliderStyleModel",
      "_view_count": null,
      "_view_module": "@jupyter-widgets/base",
      "_view_module_version": "1.2.0",
      "_view_name": "StyleView",
      "description_width": "",
      "handle_color": null
     }
    }
   }
  }
 },
 "nbformat": 4,
 "nbformat_minor": 1
}
