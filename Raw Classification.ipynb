{
 "cells": [
  {
   "cell_type": "code",
   "execution_count": 13,
   "id": "718cbaab",
   "metadata": {},
   "outputs": [],
   "source": [
    "import pandas as pd\n",
    "import numpy as np\n",
    "import os\n",
    "import matplotlib.pyplot as plt\n",
    "from sklearn.metrics import accuracy_score,auc,average_precision_score,balanced_accuracy_score,brier_score_loss,classification_report,cohen_kappa_score,confusion_matrix,dcg_score,det_curve,f1_score,fbeta_score,hamming_loss,hinge_loss,jaccard_score,log_loss,matthews_corrcoef,multilabel_confusion_matrix,ndcg_score,precision_recall_curve,precision_recall_fscore_support,precision_score,recall_score,roc_auc_score,roc_curve,top_k_accuracy_score,zero_one_loss\n",
    "from sklearn.model_selection import train_test_split\n",
    "from scipy.misc import electrocardiogram\n",
    "import pywt\n",
    "import scipy.signal as signal\n",
    "from sklearn.ensemble import RandomForestClassifier\n",
    "from sklearn.naive_bayes import GaussianNB\n",
    "from sklearn.linear_model import LogisticRegression\n",
    "from sklearn.tree import DecisionTreeClassifier"
   ]
  },
  {
   "cell_type": "code",
   "execution_count": 3,
   "id": "cc3ce095",
   "metadata": {},
   "outputs": [],
   "source": [
    "hemiplegiaFiles = os.listdir('../Data/Hemiplegia')\n",
    "normalFiles = os.listdir('../Data/Normal')\n",
    "hemiplegia = pd.DataFrame()\n",
    "normal = pd.DataFrame()\n",
    "for i in hemiplegiaFiles:\n",
    "    df = pd.read_csv('../Data/Hemiplegia/' + i)\n",
    "    df.columns = ['index','Ax','Ay','Az','Gx','Gy','Gz']\n",
    "    hemiplegia = pd.concat([hemiplegia,df],axis=0)\n",
    "for i in normalFiles:\n",
    "    df = pd.read_csv('../Data/Normal/' + i)\n",
    "    df.columns = ['index','Ax','Ay','Az','Gx','Gy','Gz']\n",
    "    normal = pd.concat([normal,df],axis=0)\n",
    "hemiplegia = hemiplegia.drop(columns='index')\n",
    "hemiplegia['Diagnosis'] = 'Hemiplegia'\n",
    "normal = normal.drop(columns='index')\n",
    "normal['Diagnosis'] = 'Normal'\n",
    "combined = pd.concat([normal,hemiplegia],axis=0)\n",
    "\n",
    "shuffled = combined.sample(frac=1).reset_index(drop=True)"
   ]
  },
  {
   "cell_type": "code",
   "execution_count": 45,
   "id": "38a4db38",
   "metadata": {},
   "outputs": [
    {
     "name": "stdout",
     "output_type": "stream",
     "text": [
      "0.8313169958294557\n",
      "0.7718246770341357\n",
      "0.8848976263815909\n",
      "0.8924981725146199\n",
      "0.7679332967836259\n",
      "0.16868300417054424\n"
     ]
    },
    {
     "name": "stderr",
     "output_type": "stream",
     "text": [
      "/home/subhrangshu/anaconda3/lib/python3.8/site-packages/sklearn/utils/validation.py:993: DataConversionWarning: A column-vector y was passed when a 1d array was expected. Please change the shape of y to (n_samples, ), for example using ravel().\n",
      "  y = column_or_1d(y, warn=True)\n"
     ]
    }
   ],
   "source": [
    "data = shuffled[['Ax','Ay','Az','Gx','Gy','Gz']]\n",
    "labels = shuffled[['Diagnosis']]\n",
    "data_train, data_test, labels_train, labels_test = train_test_split(data, labels)\n",
    "model = GaussianNB()\n",
    "model.fit(data_train, labels_train)\n",
    "\n",
    "pred = model.predict(data_test)\n",
    "labels_test = pd.Categorical(labels_test['Diagnosis']).codes\n",
    "pred = pd.Categorical(pred).codes\n",
    "\n",
    "print(accuracy_score(labels_test, pred))\n",
    "print(fbeta_score(labels_test, pred, average='macro', beta=0.5))\n",
    "print(precision_score(labels_test, pred))\n",
    "print(recall_score(labels_test, pred))\n",
    "print(roc_auc_score(labels_test, pred))\n",
    "print(brier_score_loss(labels_test, pred))"
   ]
  },
  {
   "cell_type": "code",
   "execution_count": 46,
   "id": "a69f6da2",
   "metadata": {},
   "outputs": [
    {
     "name": "stderr",
     "output_type": "stream",
     "text": [
      "/home/subhrangshu/anaconda3/lib/python3.8/site-packages/sklearn/utils/validation.py:993: DataConversionWarning: A column-vector y was passed when a 1d array was expected. Please change the shape of y to (n_samples, ), for example using ravel().\n",
      "  y = column_or_1d(y, warn=True)\n"
     ]
    },
    {
     "name": "stdout",
     "output_type": "stream",
     "text": [
      "0.7503877572122841\n",
      "0.5441957341796835\n",
      "0.7676871246521166\n",
      "0.9589241606440398\n",
      "0.5358877550528268\n",
      "0.24961224278771585\n"
     ]
    }
   ],
   "source": [
    "data = shuffled[['Ax','Ay','Az','Gx','Gy','Gz']]\n",
    "labels = shuffled[['Diagnosis']]\n",
    "data_train, data_test, labels_train, labels_test = train_test_split(data, labels)\n",
    "model = LogisticRegression(random_state=0)\n",
    "model.fit(data_train, labels_train)\n",
    "\n",
    "labels_test = pd.Categorical(labels_test['Diagnosis']).codes\n",
    "pred = model.predict(data_test)\n",
    "pred = pd.Categorical(pred).codes\n",
    "\n",
    "print(accuracy_score(labels_test, pred))\n",
    "print(fbeta_score(labels_test, pred, average='macro', beta=0.5))\n",
    "print(precision_score(labels_test, pred))\n",
    "print(recall_score(labels_test, pred))\n",
    "print(roc_auc_score(labels_test, pred))\n",
    "print(brier_score_loss(labels_test, pred))"
   ]
  },
  {
   "cell_type": "code",
   "execution_count": 47,
   "id": "eecbdb7b",
   "metadata": {},
   "outputs": [
    {
     "name": "stderr",
     "output_type": "stream",
     "text": [
      "/tmp/ipykernel_40145/2260239230.py:5: DataConversionWarning: A column-vector y was passed when a 1d array was expected. Please change the shape of y to (n_samples,), for example using ravel().\n",
      "  model.fit(data_train, labels_train)\n"
     ]
    },
    {
     "name": "stdout",
     "output_type": "stream",
     "text": [
      "0.9600179230000344\n",
      "0.9476901997326612\n",
      "0.9701837985023826\n",
      "0.9770120195603491\n",
      "0.9424459985631245\n",
      "0.03998207699996553\n"
     ]
    }
   ],
   "source": [
    "data = shuffled[['Ax','Ay','Az','Gx','Gy','Gz']]\n",
    "labels = shuffled[['Diagnosis']]\n",
    "data_train, data_test, labels_train, labels_test = train_test_split(data, labels)\n",
    "model = RandomForestClassifier(random_state=0)\n",
    "model.fit(data_train, labels_train)\n",
    "\n",
    "labels_test = pd.Categorical(labels_test['Diagnosis']).codes\n",
    "pred = model.predict(data_test)\n",
    "pred = pd.Categorical(pred).codes\n",
    "\n",
    "print(accuracy_score(labels_test, pred))\n",
    "print(fbeta_score(labels_test, pred, average='macro', beta=0.5))\n",
    "print(precision_score(labels_test, pred))\n",
    "print(recall_score(labels_test, pred))\n",
    "print(roc_auc_score(labels_test, pred))\n",
    "print(brier_score_loss(labels_test, pred))"
   ]
  },
  {
   "cell_type": "code",
   "execution_count": 48,
   "id": "4f34d862",
   "metadata": {},
   "outputs": [
    {
     "name": "stdout",
     "output_type": "stream",
     "text": [
      "0.9263088960121325\n",
      "0.9007525144068649\n",
      "0.9528436564586691\n",
      "0.9489108002751663\n",
      "0.9034232136780938\n",
      "0.0736911039878675\n"
     ]
    }
   ],
   "source": [
    "data = shuffled[['Ax','Ay','Az','Gx','Gy','Gz']]\n",
    "labels = shuffled[['Diagnosis']]\n",
    "data_train, data_test, labels_train, labels_test = train_test_split(data, labels)\n",
    "model = DecisionTreeClassifier(random_state=0)\n",
    "model.fit(data_train, labels_train)\n",
    "\n",
    "labels_test = pd.Categorical(labels_test['Diagnosis']).codes\n",
    "pred = model.predict(data_test)\n",
    "pred = pd.Categorical(pred).codes\n",
    "\n",
    "print(accuracy_score(labels_test, pred))\n",
    "print(fbeta_score(labels_test, pred, average='macro', beta=0.5))\n",
    "print(precision_score(labels_test, pred))\n",
    "print(recall_score(labels_test, pred))\n",
    "print(roc_auc_score(labels_test, pred))\n",
    "print(brier_score_loss(labels_test, pred))"
   ]
  },
  {
   "cell_type": "code",
   "execution_count": null,
   "id": "d54d3ed8",
   "metadata": {},
   "outputs": [],
   "source": []
  },
  {
   "cell_type": "code",
   "execution_count": null,
   "id": "6f8845cd",
   "metadata": {},
   "outputs": [],
   "source": []
  },
  {
   "cell_type": "code",
   "execution_count": null,
   "id": "b8c868f1",
   "metadata": {},
   "outputs": [],
   "source": []
  },
  {
   "cell_type": "code",
   "execution_count": null,
   "id": "cd642836",
   "metadata": {},
   "outputs": [],
   "source": []
  },
  {
   "cell_type": "code",
   "execution_count": null,
   "id": "c7fefb1e",
   "metadata": {},
   "outputs": [],
   "source": []
  }
 ],
 "metadata": {
  "kernelspec": {
   "display_name": "Python 3 (ipykernel)",
   "language": "python",
   "name": "python3"
  },
  "language_info": {
   "codemirror_mode": {
    "name": "ipython",
    "version": 3
   },
   "file_extension": ".py",
   "mimetype": "text/x-python",
   "name": "python",
   "nbconvert_exporter": "python",
   "pygments_lexer": "ipython3",
   "version": "3.8.8"
  }
 },
 "nbformat": 4,
 "nbformat_minor": 5
}
